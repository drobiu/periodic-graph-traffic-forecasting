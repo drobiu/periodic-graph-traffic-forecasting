{
 "cells": [
  {
   "cell_type": "code",
   "execution_count": 1,
   "metadata": {
    "id": "tuEiu6P8Mq1v"
   },
   "outputs": [],
   "source": [
    "import time\n",
    "import torch\n",
    "import pickle\n",
    "import numpy as np\n",
    "import torch.nn as nn\n",
    "import matplotlib.pyplot as plt\n",
    "from torch_geometric.nn import TAGConv, GATConv\n",
    "from torch.nn import Sequential, Linear, ReLU\n",
    "from torch_geometric.loader import DataLoader as pyg_DataLoader"
   ]
  },
  {
   "cell_type": "code",
   "execution_count": 2,
   "metadata": {
    "colab": {
     "base_uri": "https://localhost:8080/"
    },
    "executionInfo": {
     "elapsed": 29,
     "status": "ok",
     "timestamp": 1685910418740,
     "user": {
      "displayName": "Karol Dobiczek",
      "userId": "02696304507583851641"
     },
     "user_tz": -120
    },
    "id": "2YL0FhoBIL1M",
    "outputId": "243b970d-ed6b-413f-94f7-dee40e61ed43"
   },
   "outputs": [
    {
     "name": "stdout",
     "output_type": "stream",
     "text": [
      "cuda:0\n"
     ]
    }
   ],
   "source": [
    "device = torch.device('cuda:0' if torch.cuda.is_available() else 'cpu')\n",
    "print(device)"
   ]
  },
  {
   "cell_type": "code",
   "execution_count": 3,
   "metadata": {
    "id": "fpvlH2EiMq19"
   },
   "outputs": [],
   "source": [
    "with open('Training_dataset_LA_small.p', 'rb') as handle:\n",
    "    tra_dataset_pyg = pickle.load(handle)\n",
    "with open('Validation_dataset_LA_small.p', 'rb') as handle:\n",
    "    val_dataset_pyg = pickle.load(handle)\n",
    "with open('Test_dataset_LA_small.p', 'rb') as handle:\n",
    "    tst_dataset_pyg = pickle.load(handle)"
   ]
  },
  {
   "cell_type": "code",
   "execution_count": 4,
   "metadata": {
    "colab": {
     "base_uri": "https://localhost:8080/"
    },
    "executionInfo": {
     "elapsed": 20,
     "status": "ok",
     "timestamp": 1685910242611,
     "user": {
      "displayName": "Karol Dobiczek",
      "userId": "02696304507583851641"
     },
     "user_tz": -120
    },
    "id": "drgZD4U-Mq1_",
    "outputId": "93a42d4b-374d-4fd6-a48f-0c5c68137afe"
   },
   "outputs": [
    {
     "name": "stdout",
     "output_type": "stream",
     "text": [
      "Number of training examples: 8000\n",
      "Number of validation examples: 1000\n",
      "Number of test examples: 1000\n"
     ]
    }
   ],
   "source": [
    "print('Number of training examples:',   len(tra_dataset_pyg))\n",
    "print('Number of validation examples:', len(val_dataset_pyg))\n",
    "print('Number of test examples:',       len(tst_dataset_pyg))"
   ]
  },
  {
   "cell_type": "code",
   "execution_count": 5,
   "metadata": {
    "colab": {
     "base_uri": "https://localhost:8080/"
    },
    "executionInfo": {
     "elapsed": 385,
     "status": "ok",
     "timestamp": 1685910242981,
     "user": {
      "displayName": "Karol Dobiczek",
      "userId": "02696304507583851641"
     },
     "user_tz": -120
    },
    "id": "ORTY-6qXMq2A",
    "outputId": "9cbf09db-3fa6-47c4-e85c-238879f2adda"
   },
   "outputs": [
    {
     "data": {
      "text/plain": [
       "Data(x=[50, 12], edge_index=[2, 300], edge_attr=[300, 1], y=[50, 12])"
      ]
     },
     "execution_count": 5,
     "metadata": {},
     "output_type": "execute_result"
    }
   ],
   "source": [
    "tra_dataset_pyg[0]"
   ]
  },
  {
   "cell_type": "code",
   "execution_count": 27,
   "metadata": {
    "id": "Tzgd_xqvMq2T"
   },
   "outputs": [],
   "source": [
    "class My_GNN(nn.Module):\n",
    "    \"\"\"\n",
    "    This class defines a PyTorch module that takes in a graph represented in the PyTorch Geometric Data format,\n",
    "    and outputs a tensor of predictions for each node in the graph. The model consists of one or more GATConv layers,\n",
    "    which are a type of graph convolutional layer.\n",
    "\n",
    "    Args:\n",
    "        node_dim (int): The number of node inputs.\n",
    "        edge_dim (int): The number of edge inputs.\n",
    "        output_dim (int, optional): The number of outputs (default: 1).\n",
    "        hidden_dim (int, optional): The number of hidden units in each GNN layer (default: 50).\n",
    "        n_gnn_layers (int, optional): The number of GNN layers in the model (default: 1).\n",
    "        K (int, optional): The number of hops in the neighbourhood for each GNN layer (default: 2).\n",
    "        dropout_rate (float, optional): The dropout rate to be applied to the output of each GNN layer (default: 0).\n",
    "\n",
    "    \"\"\"\n",
    "    def __init__(self, node_dim, edge_dim, output_dim=1, hidden_dim=50, n_gnn_layers=1, K=2, dropout_rate=0):\n",
    "        super().__init__()\n",
    "        self.node_dim = node_dim          \n",
    "        self.edge_dim = edge_dim          \n",
    "        self.output_dim = output_dim      \n",
    "        self.hidden_dim = hidden_dim      \n",
    "        self.n_gnn_layers = n_gnn_layers  \n",
    "        self.K = K                        \n",
    "        self.dropout_rate = dropout_rate\n",
    "\n",
    "        self.convs = nn.ModuleList()\n",
    "        self.prelus = nn.ModuleList()\n",
    "\n",
    "        if n_gnn_layers == 1:\n",
    "            self.convs.append(GATConv(node_dim, output_dim, heads=K, dropout=dropout_rate))\n",
    "        else:\n",
    "            self.convs.append(GATConv(node_dim, hidden_dim, heads=K, dropout=dropout_rate))\n",
    "            self.prelus.append(nn.PReLU())\n",
    "\n",
    "            for l in range(n_gnn_layers-2):\n",
    "                self.convs.append(GATConv(hidden_dim, hidden_dim, heads=K, dropout=dropout_rate))\n",
    "                self.prelus.append(nn.PReLU())\n",
    "\n",
    "            self.convs.append(GATConv(hidden_dim, output_dim, heads=K, dropout=dropout_rate))\n",
    "\n",
    "    def forward(self, data):\n",
    "        \"\"\"Applies the GNN to the input graph.\n",
    "\n",
    "          Args:\n",
    "              data (Data): A PyTorch Geometric Data object representing the input graph.\n",
    "\n",
    "          Returns:\n",
    "              torch.Tensor: The output tensor of the GNN.\n",
    "\n",
    "          \"\"\"\n",
    "        x = data.x.float()\n",
    "#         print(edge_index.shape)\n",
    "        edge_index = data.edge_index.long()\n",
    "#         print(edge_index)\n",
    "        edge_attr = data.edge_attr.float()\n",
    "\n",
    "      # print(x.shape)\n",
    "      \n",
    "        for i in range(len(self.convs)-1):\n",
    "            x = self.convs[i](x=x, edge_index=edge_index, edge_attr=edge_attr)\n",
    "            # print(x.shape)\n",
    "            x = nn.Dropout(self.dropout_rate, inplace=False)(x)\n",
    "            x = self.prelus[i](x)\n",
    "      \n",
    "        x = self.convs[-1](x=x, edge_index=edge_index, edge_attr=edge_attr)\n",
    "      # x = nn.Sigmoid()(x)\n",
    "      \n",
    "        return x"
   ]
  },
  {
   "cell_type": "code",
   "execution_count": 28,
   "metadata": {
    "colab": {
     "base_uri": "https://localhost:8080/"
    },
    "executionInfo": {
     "elapsed": 328,
     "status": "ok",
     "timestamp": 1685910417037,
     "user": {
      "displayName": "Karol Dobiczek",
      "userId": "02696304507583851641"
     },
     "user_tz": -120
    },
    "id": "lVO1utixMq2T",
    "outputId": "9da798c1-c8dc-4225-fe9d-803d20c1cb80"
   },
   "outputs": [
    {
     "name": "stdout",
     "output_type": "stream",
     "text": [
      "My_GNN(\n",
      "  (convs): ModuleList(\n",
      "    (0): GATConv(12, 16, heads=1)\n",
      "    (1): GATConv(16, 16, heads=1)\n",
      "    (2): GATConv(16, 12, heads=1)\n",
      "  )\n",
      "  (prelus): ModuleList(\n",
      "    (0-1): 2 x PReLU(num_parameters=1)\n",
      "  )\n",
      ")\n"
     ]
    }
   ],
   "source": [
    "# Set model parameters\n",
    "node_dim =   tra_dataset_pyg[0].x.shape[1]\n",
    "edge_dim =   tra_dataset_pyg[0].edge_attr.shape[1]\n",
    "output_dim = tra_dataset_pyg[0].y.shape[1]\n",
    "hidden_dim = 16\n",
    "n_gnn_layers = 3\n",
    "K=1\n",
    "dropout_rate = 0.1\n",
    "\n",
    "# Create model\n",
    "model = My_GNN(node_dim, edge_dim, output_dim, hidden_dim, n_gnn_layers, K, dropout_rate).to(device)\n",
    "print(model)"
   ]
  },
  {
   "cell_type": "markdown",
   "metadata": {
    "id": "tG4ejXt-Gi7j"
   },
   "source": [
    "#### Training epoch function"
   ]
  },
  {
   "cell_type": "code",
   "execution_count": 34,
   "metadata": {
    "id": "2OdoW7rT5OG5"
   },
   "outputs": [],
   "source": [
    "def train_epoch(model, loader, optimizer, device='cpu'):\n",
    "  \"\"\"\n",
    "    Trains a neural network model for one epoch using the specified data loader and optimizer.\n",
    "\n",
    "    Args:\n",
    "        model (nn.Module): The neural network model to be trained.\n",
    "        loader (DataLoader): The PyTorch Geometric DataLoader containing the training data.\n",
    "        optimizer (torch.optim.Optimizer): The PyTorch optimizer used for training the model.\n",
    "        device (str): The device used for training the model (default: 'cpu').\n",
    "\n",
    "    Returns:\n",
    "        float: The mean loss value over all the batches in the DataLoader.\n",
    "\n",
    "    \"\"\"\n",
    "  \n",
    "  # opt = torch.optim.Adam(model.parameters(), lr=0.001)\n",
    "  losses = []\n",
    "  for batch in loader:\n",
    "    batch = batch.to(device) # GPU\n",
    "\n",
    "    optimizer.zero_grad()\n",
    "    y_hat = model(batch)\n",
    "    loss = nn.MSELoss()\n",
    "    loss = loss(batch.y, y_hat)\n",
    "    loss.backward()\n",
    "    optimizer.step()\n",
    "    losses.append(loss.cpu().detach().numpy())\n",
    "\n",
    "  return np.mean(losses)"
   ]
  },
  {
   "cell_type": "markdown",
   "metadata": {
    "id": "YHkEUJJRGnTf"
   },
   "source": [
    "#### Testing epoch function"
   ]
  },
  {
   "cell_type": "code",
   "execution_count": 35,
   "metadata": {
    "id": "D4ZjBpbd5N_g"
   },
   "outputs": [],
   "source": [
    "def evaluate_epoch(model, loader, device='cpu'):\n",
    "    \"\"\"\n",
    "    Evaluates the performance of a trained neural network model on a dataset using the specified data loader.\n",
    "\n",
    "    Args:\n",
    "        model (nn.Module): The trained neural network model to be evaluated.\n",
    "        loader (DataLoader): The PyTorch Geometric DataLoader containing the evaluation data.\n",
    "        device (str): The device used for evaluating the model (default: 'cpu').\n",
    "\n",
    "    Returns:\n",
    "        float: The mean loss value over all the batches in the DataLoader.\n",
    "\n",
    "    \"\"\"\n",
    "\n",
    "    losses = []\n",
    "    for batch in loader:\n",
    "      batch = batch.to(device) # GPU\n",
    "\n",
    "      y_hat = model(batch)\n",
    "      loss = nn.MSELoss()\n",
    "      loss = loss(batch.y, y_hat)\n",
    "      losses.append(loss.cpu().detach().numpy())\n",
    "\n",
    "    return np.mean(losses)"
   ]
  },
  {
   "cell_type": "markdown",
   "metadata": {
    "id": "qWIaTu5NGrt_"
   },
   "source": [
    "#### Optimization of the Model"
   ]
  },
  {
   "cell_type": "code",
   "execution_count": 36,
   "metadata": {
    "id": "NmB2lceaFvbq"
   },
   "outputs": [],
   "source": [
    "# Set training parameters\n",
    "learning_rate = 0.001\n",
    "batch_size = 16\n",
    "num_epochs = 100\n",
    "\n",
    "# Create the optimizer to train the neural network via back-propagation\n",
    "optimizer = torch.optim.Adam(params=model.parameters(), lr=learning_rate)\n",
    "\n",
    "# Create the training and validation dataloaders to \"feed\" data to the GNN in batches\n",
    "tra_loader = pyg_DataLoader(tra_dataset_pyg, batch_size=batch_size, shuffle=True)\n",
    "val_loader = pyg_DataLoader(val_dataset_pyg, batch_size=batch_size, shuffle=False)"
   ]
  },
  {
   "cell_type": "code",
   "execution_count": 37,
   "metadata": {
    "scrolled": false
   },
   "outputs": [
    {
     "name": "stdout",
     "output_type": "stream",
     "text": [
      "torch.Size([800, 12])\n",
      "torch.Size([2, 4800])\n",
      "torch.Size([4800, 1])\n"
     ]
    },
    {
     "data": {
      "text/plain": [
       "tensor([[65.1250, 66.6667, 66.7500,  ..., 64.3750, 64.1111, 65.3750],\n",
       "        [68.2500, 67.6667, 69.2500,  ..., 69.3750, 67.2222, 68.0000],\n",
       "        [63.3750, 65.4444, 65.5000,  ..., 60.0000, 65.6667, 60.2500],\n",
       "        ...,\n",
       "        [65.7778, 65.1111, 64.4286,  ..., 64.0000, 61.2500, 64.2222],\n",
       "        [68.1111, 67.3333, 66.4286,  ..., 68.4444, 69.1250, 68.8889],\n",
       "        [65.4444, 65.1111, 65.5714,  ..., 64.8889, 66.2500, 58.0000]])"
      ]
     },
     "execution_count": 37,
     "metadata": {},
     "output_type": "execute_result"
    }
   ],
   "source": [
    "for b in tra_loader:\n",
    "    print(b.x.shape)\n",
    "    print(b.edge_index.shape)\n",
    "    print(b.edge_attr.shape)\n",
    "    ei = b.x\n",
    "    break\n",
    "    \n",
    "ei"
   ]
  },
  {
   "cell_type": "code",
   "execution_count": 38,
   "metadata": {
    "colab": {
     "base_uri": "https://localhost:8080/"
    },
    "executionInfo": {
     "elapsed": 61372,
     "status": "ok",
     "timestamp": 1685910480095,
     "user": {
      "displayName": "Karol Dobiczek",
      "userId": "02696304507583851641"
     },
     "user_tz": -120
    },
    "id": "zQh7-Yv2JHDZ",
    "outputId": "3d35c4c8-a911-44da-d4a6-bcc33313a70f"
   },
   "outputs": [
    {
     "name": "stdout",
     "output_type": "stream",
     "text": [
      "epoch: 1 \t training loss: 656.1928 \t validation loss: 355.0832\n",
      "epoch: 2 \t training loss: 364.7518 \t validation loss: 344.9032\n",
      "epoch: 3 \t training loss: 355.1952 \t validation loss: 328.0034\n",
      "epoch: 4 \t training loss: 348.3899 \t validation loss: 329.8742\n",
      "epoch: 5 \t training loss: 341.3016 \t validation loss: 328.2246\n",
      "epoch: 6 \t training loss: 335.848 \t validation loss: 332.0904\n",
      "epoch: 7 \t training loss: 326.6578 \t validation loss: 308.9557\n",
      "epoch: 8 \t training loss: 322.4892 \t validation loss: 307.2739\n",
      "epoch: 9 \t training loss: 320.3303 \t validation loss: 303.4664\n",
      "epoch: 10 \t training loss: 319.2312 \t validation loss: 303.2409\n",
      "epoch: 11 \t training loss: 313.6359 \t validation loss: 299.9119\n",
      "epoch: 12 \t training loss: 314.0602 \t validation loss: 299.3229\n",
      "epoch: 13 \t training loss: 310.9193 \t validation loss: 299.253\n",
      "epoch: 14 \t training loss: 309.2893 \t validation loss: 289.5578\n",
      "epoch: 15 \t training loss: 307.0477 \t validation loss: 289.6408\n",
      "epoch: 16 \t training loss: 305.8572 \t validation loss: 283.6157\n",
      "epoch: 17 \t training loss: 305.5094 \t validation loss: 288.6222\n",
      "epoch: 18 \t training loss: 305.6206 \t validation loss: 286.9416\n",
      "epoch: 19 \t training loss: 303.0897 \t validation loss: 284.5766\n",
      "epoch: 20 \t training loss: 302.5279 \t validation loss: 284.9926\n",
      "epoch: 21 \t training loss: 302.1082 \t validation loss: 284.0885\n",
      "epoch: 22 \t training loss: 301.9761 \t validation loss: 282.7961\n",
      "epoch: 23 \t training loss: 303.6548 \t validation loss: 287.0988\n",
      "epoch: 24 \t training loss: 299.5558 \t validation loss: 279.7576\n",
      "epoch: 25 \t training loss: 297.5184 \t validation loss: 279.7227\n",
      "epoch: 26 \t training loss: 296.2377 \t validation loss: 279.2237\n",
      "epoch: 27 \t training loss: 295.8105 \t validation loss: 278.4122\n",
      "epoch: 28 \t training loss: 297.44 \t validation loss: 278.5849\n",
      "epoch: 29 \t training loss: 293.835 \t validation loss: 272.1896\n",
      "epoch: 30 \t training loss: 293.5199 \t validation loss: 276.6184\n",
      "epoch: 31 \t training loss: 291.6057 \t validation loss: 275.8368\n",
      "epoch: 32 \t training loss: 292.685 \t validation loss: 274.067\n",
      "epoch: 33 \t training loss: 290.8283 \t validation loss: 274.7782\n",
      "epoch: 34 \t training loss: 288.6201 \t validation loss: 271.9867\n",
      "epoch: 35 \t training loss: 288.459 \t validation loss: 275.363\n",
      "epoch: 36 \t training loss: 288.6664 \t validation loss: 271.3249\n",
      "epoch: 37 \t training loss: 288.956 \t validation loss: 269.3009\n",
      "epoch: 38 \t training loss: 286.8806 \t validation loss: 274.1702\n",
      "epoch: 39 \t training loss: 286.0102 \t validation loss: 271.4244\n",
      "epoch: 40 \t training loss: 285.2869 \t validation loss: 267.8276\n",
      "epoch: 41 \t training loss: 283.8951 \t validation loss: 268.051\n",
      "epoch: 42 \t training loss: 283.7695 \t validation loss: 267.0192\n",
      "epoch: 43 \t training loss: 282.5532 \t validation loss: 278.5459\n",
      "epoch: 44 \t training loss: 280.9117 \t validation loss: 264.8893\n",
      "epoch: 45 \t training loss: 280.6359 \t validation loss: 259.6772\n",
      "epoch: 46 \t training loss: 279.6824 \t validation loss: 260.0614\n",
      "epoch: 47 \t training loss: 279.3837 \t validation loss: 260.5381\n",
      "epoch: 48 \t training loss: 279.3072 \t validation loss: 257.862\n",
      "epoch: 49 \t training loss: 276.5469 \t validation loss: 259.9328\n",
      "epoch: 50 \t training loss: 278.3778 \t validation loss: 259.3528\n",
      "epoch: 51 \t training loss: 276.7892 \t validation loss: 255.5839\n"
     ]
    },
    {
     "ename": "KeyboardInterrupt",
     "evalue": "",
     "output_type": "error",
     "traceback": [
      "\u001b[1;31m---------------------------------------------------------------------------\u001b[0m",
      "\u001b[1;31mKeyboardInterrupt\u001b[0m                         Traceback (most recent call last)",
      "Cell \u001b[1;32mIn[38], line 11\u001b[0m\n\u001b[0;32m      7\u001b[0m start_time \u001b[38;5;241m=\u001b[39m time\u001b[38;5;241m.\u001b[39mtime()\n\u001b[0;32m      9\u001b[0m \u001b[38;5;28;01mfor\u001b[39;00m epoch \u001b[38;5;129;01min\u001b[39;00m \u001b[38;5;28mrange\u001b[39m(\u001b[38;5;241m1\u001b[39m, num_epochs\u001b[38;5;241m+\u001b[39m\u001b[38;5;241m1\u001b[39m):\n\u001b[0;32m     10\u001b[0m     \u001b[38;5;66;03m# Model training\u001b[39;00m\n\u001b[1;32m---> 11\u001b[0m     train_loss \u001b[38;5;241m=\u001b[39m \u001b[43mtrain_epoch\u001b[49m\u001b[43m(\u001b[49m\u001b[43mmodel\u001b[49m\u001b[43m,\u001b[49m\u001b[43m \u001b[49m\u001b[43mtra_loader\u001b[49m\u001b[43m,\u001b[49m\u001b[43m \u001b[49m\u001b[43moptimizer\u001b[49m\u001b[43m,\u001b[49m\u001b[43m \u001b[49m\u001b[43mdevice\u001b[49m\u001b[38;5;241;43m=\u001b[39;49m\u001b[43mdevice\u001b[49m\u001b[43m)\u001b[49m\n\u001b[0;32m     13\u001b[0m     \u001b[38;5;66;03m# Model validation\u001b[39;00m\n\u001b[0;32m     14\u001b[0m     val_loss \u001b[38;5;241m=\u001b[39m evaluate_epoch(model, val_loader, device\u001b[38;5;241m=\u001b[39mdevice)\n",
      "Cell \u001b[1;32mIn[34], line 22\u001b[0m, in \u001b[0;36mtrain_epoch\u001b[1;34m(model, loader, optimizer, device)\u001b[0m\n\u001b[0;32m     19\u001b[0m batch \u001b[38;5;241m=\u001b[39m batch\u001b[38;5;241m.\u001b[39mto(device) \u001b[38;5;66;03m# GPU\u001b[39;00m\n\u001b[0;32m     21\u001b[0m optimizer\u001b[38;5;241m.\u001b[39mzero_grad()\n\u001b[1;32m---> 22\u001b[0m y_hat \u001b[38;5;241m=\u001b[39m \u001b[43mmodel\u001b[49m\u001b[43m(\u001b[49m\u001b[43mbatch\u001b[49m\u001b[43m)\u001b[49m\n\u001b[0;32m     23\u001b[0m loss \u001b[38;5;241m=\u001b[39m nn\u001b[38;5;241m.\u001b[39mMSELoss()\n\u001b[0;32m     24\u001b[0m loss \u001b[38;5;241m=\u001b[39m loss(batch\u001b[38;5;241m.\u001b[39my, y_hat)\n",
      "File \u001b[1;32m~\\anaconda3\\lib\\site-packages\\torch\\nn\\modules\\module.py:1501\u001b[0m, in \u001b[0;36mModule._call_impl\u001b[1;34m(self, *args, **kwargs)\u001b[0m\n\u001b[0;32m   1496\u001b[0m \u001b[38;5;66;03m# If we don't have any hooks, we want to skip the rest of the logic in\u001b[39;00m\n\u001b[0;32m   1497\u001b[0m \u001b[38;5;66;03m# this function, and just call forward.\u001b[39;00m\n\u001b[0;32m   1498\u001b[0m \u001b[38;5;28;01mif\u001b[39;00m \u001b[38;5;129;01mnot\u001b[39;00m (\u001b[38;5;28mself\u001b[39m\u001b[38;5;241m.\u001b[39m_backward_hooks \u001b[38;5;129;01mor\u001b[39;00m \u001b[38;5;28mself\u001b[39m\u001b[38;5;241m.\u001b[39m_backward_pre_hooks \u001b[38;5;129;01mor\u001b[39;00m \u001b[38;5;28mself\u001b[39m\u001b[38;5;241m.\u001b[39m_forward_hooks \u001b[38;5;129;01mor\u001b[39;00m \u001b[38;5;28mself\u001b[39m\u001b[38;5;241m.\u001b[39m_forward_pre_hooks\n\u001b[0;32m   1499\u001b[0m         \u001b[38;5;129;01mor\u001b[39;00m _global_backward_pre_hooks \u001b[38;5;129;01mor\u001b[39;00m _global_backward_hooks\n\u001b[0;32m   1500\u001b[0m         \u001b[38;5;129;01mor\u001b[39;00m _global_forward_hooks \u001b[38;5;129;01mor\u001b[39;00m _global_forward_pre_hooks):\n\u001b[1;32m-> 1501\u001b[0m     \u001b[38;5;28;01mreturn\u001b[39;00m forward_call(\u001b[38;5;241m*\u001b[39margs, \u001b[38;5;241m*\u001b[39m\u001b[38;5;241m*\u001b[39mkwargs)\n\u001b[0;32m   1502\u001b[0m \u001b[38;5;66;03m# Do not call functions when jit is used\u001b[39;00m\n\u001b[0;32m   1503\u001b[0m full_backward_hooks, non_full_backward_hooks \u001b[38;5;241m=\u001b[39m [], []\n",
      "Cell \u001b[1;32mIn[27], line 61\u001b[0m, in \u001b[0;36mMy_GNN.forward\u001b[1;34m(self, data)\u001b[0m\n\u001b[0;32m     58\u001b[0m \u001b[38;5;66;03m# print(x.shape)\u001b[39;00m\n\u001b[0;32m     60\u001b[0m   \u001b[38;5;28;01mfor\u001b[39;00m i \u001b[38;5;129;01min\u001b[39;00m \u001b[38;5;28mrange\u001b[39m(\u001b[38;5;28mlen\u001b[39m(\u001b[38;5;28mself\u001b[39m\u001b[38;5;241m.\u001b[39mconvs)\u001b[38;5;241m-\u001b[39m\u001b[38;5;241m1\u001b[39m):\n\u001b[1;32m---> 61\u001b[0m       x \u001b[38;5;241m=\u001b[39m \u001b[38;5;28;43mself\u001b[39;49m\u001b[38;5;241;43m.\u001b[39;49m\u001b[43mconvs\u001b[49m\u001b[43m[\u001b[49m\u001b[43mi\u001b[49m\u001b[43m]\u001b[49m\u001b[43m(\u001b[49m\u001b[43mx\u001b[49m\u001b[38;5;241;43m=\u001b[39;49m\u001b[43mx\u001b[49m\u001b[43m,\u001b[49m\u001b[43m \u001b[49m\u001b[43medge_index\u001b[49m\u001b[38;5;241;43m=\u001b[39;49m\u001b[43medge_index\u001b[49m\u001b[43m,\u001b[49m\u001b[43m \u001b[49m\u001b[43medge_attr\u001b[49m\u001b[38;5;241;43m=\u001b[39;49m\u001b[43medge_attr\u001b[49m\u001b[43m)\u001b[49m\n\u001b[0;32m     62\u001b[0m       \u001b[38;5;66;03m# print(x.shape)\u001b[39;00m\n\u001b[0;32m     63\u001b[0m       x \u001b[38;5;241m=\u001b[39m nn\u001b[38;5;241m.\u001b[39mDropout(\u001b[38;5;28mself\u001b[39m\u001b[38;5;241m.\u001b[39mdropout_rate, inplace\u001b[38;5;241m=\u001b[39m\u001b[38;5;28;01mFalse\u001b[39;00m)(x)\n",
      "File \u001b[1;32m~\\anaconda3\\lib\\site-packages\\torch\\nn\\modules\\module.py:1501\u001b[0m, in \u001b[0;36mModule._call_impl\u001b[1;34m(self, *args, **kwargs)\u001b[0m\n\u001b[0;32m   1496\u001b[0m \u001b[38;5;66;03m# If we don't have any hooks, we want to skip the rest of the logic in\u001b[39;00m\n\u001b[0;32m   1497\u001b[0m \u001b[38;5;66;03m# this function, and just call forward.\u001b[39;00m\n\u001b[0;32m   1498\u001b[0m \u001b[38;5;28;01mif\u001b[39;00m \u001b[38;5;129;01mnot\u001b[39;00m (\u001b[38;5;28mself\u001b[39m\u001b[38;5;241m.\u001b[39m_backward_hooks \u001b[38;5;129;01mor\u001b[39;00m \u001b[38;5;28mself\u001b[39m\u001b[38;5;241m.\u001b[39m_backward_pre_hooks \u001b[38;5;129;01mor\u001b[39;00m \u001b[38;5;28mself\u001b[39m\u001b[38;5;241m.\u001b[39m_forward_hooks \u001b[38;5;129;01mor\u001b[39;00m \u001b[38;5;28mself\u001b[39m\u001b[38;5;241m.\u001b[39m_forward_pre_hooks\n\u001b[0;32m   1499\u001b[0m         \u001b[38;5;129;01mor\u001b[39;00m _global_backward_pre_hooks \u001b[38;5;129;01mor\u001b[39;00m _global_backward_hooks\n\u001b[0;32m   1500\u001b[0m         \u001b[38;5;129;01mor\u001b[39;00m _global_forward_hooks \u001b[38;5;129;01mor\u001b[39;00m _global_forward_pre_hooks):\n\u001b[1;32m-> 1501\u001b[0m     \u001b[38;5;28;01mreturn\u001b[39;00m forward_call(\u001b[38;5;241m*\u001b[39margs, \u001b[38;5;241m*\u001b[39m\u001b[38;5;241m*\u001b[39mkwargs)\n\u001b[0;32m   1502\u001b[0m \u001b[38;5;66;03m# Do not call functions when jit is used\u001b[39;00m\n\u001b[0;32m   1503\u001b[0m full_backward_hooks, non_full_backward_hooks \u001b[38;5;241m=\u001b[39m [], []\n",
      "File \u001b[1;32m~\\anaconda3\\lib\\site-packages\\torch_geometric\\nn\\conv\\gat_conv.py:252\u001b[0m, in \u001b[0;36mGATConv.forward\u001b[1;34m(self, x, edge_index, edge_attr, size, return_attention_weights)\u001b[0m\n\u001b[0;32m    246\u001b[0m             \u001b[38;5;28;01mraise\u001b[39;00m \u001b[38;5;167;01mNotImplementedError\u001b[39;00m(\n\u001b[0;32m    247\u001b[0m                 \u001b[38;5;124m\"\u001b[39m\u001b[38;5;124mThe usage of \u001b[39m\u001b[38;5;124m'\u001b[39m\u001b[38;5;124medge_attr\u001b[39m\u001b[38;5;124m'\u001b[39m\u001b[38;5;124m and \u001b[39m\u001b[38;5;124m'\u001b[39m\u001b[38;5;124madd_self_loops\u001b[39m\u001b[38;5;124m'\u001b[39m\u001b[38;5;124m \u001b[39m\u001b[38;5;124m\"\u001b[39m\n\u001b[0;32m    248\u001b[0m                 \u001b[38;5;124m\"\u001b[39m\u001b[38;5;124msimultaneously is currently not yet supported for \u001b[39m\u001b[38;5;124m\"\u001b[39m\n\u001b[0;32m    249\u001b[0m                 \u001b[38;5;124m\"\u001b[39m\u001b[38;5;124m'\u001b[39m\u001b[38;5;124medge_index\u001b[39m\u001b[38;5;124m'\u001b[39m\u001b[38;5;124m in a \u001b[39m\u001b[38;5;124m'\u001b[39m\u001b[38;5;124mSparseTensor\u001b[39m\u001b[38;5;124m'\u001b[39m\u001b[38;5;124m form\u001b[39m\u001b[38;5;124m\"\u001b[39m)\n\u001b[0;32m    251\u001b[0m \u001b[38;5;66;03m# edge_updater_type: (alpha: OptPairTensor, edge_attr: OptTensor)\u001b[39;00m\n\u001b[1;32m--> 252\u001b[0m alpha \u001b[38;5;241m=\u001b[39m \u001b[38;5;28;43mself\u001b[39;49m\u001b[38;5;241;43m.\u001b[39;49m\u001b[43medge_updater\u001b[49m\u001b[43m(\u001b[49m\u001b[43medge_index\u001b[49m\u001b[43m,\u001b[49m\u001b[43m \u001b[49m\u001b[43malpha\u001b[49m\u001b[38;5;241;43m=\u001b[39;49m\u001b[43malpha\u001b[49m\u001b[43m,\u001b[49m\u001b[43m \u001b[49m\u001b[43medge_attr\u001b[49m\u001b[38;5;241;43m=\u001b[39;49m\u001b[43medge_attr\u001b[49m\u001b[43m)\u001b[49m\n\u001b[0;32m    254\u001b[0m \u001b[38;5;66;03m# propagate_type: (x: OptPairTensor, alpha: Tensor)\u001b[39;00m\n\u001b[0;32m    255\u001b[0m out \u001b[38;5;241m=\u001b[39m \u001b[38;5;28mself\u001b[39m\u001b[38;5;241m.\u001b[39mpropagate(edge_index, x\u001b[38;5;241m=\u001b[39mx, alpha\u001b[38;5;241m=\u001b[39malpha, size\u001b[38;5;241m=\u001b[39msize)\n",
      "File \u001b[1;32m~\\anaconda3\\lib\\site-packages\\torch_geometric\\nn\\conv\\message_passing.py:531\u001b[0m, in \u001b[0;36mMessagePassing.edge_updater\u001b[1;34m(self, edge_index, **kwargs)\u001b[0m\n\u001b[0;32m    527\u001b[0m coll_dict \u001b[38;5;241m=\u001b[39m \u001b[38;5;28mself\u001b[39m\u001b[38;5;241m.\u001b[39m_collect(\u001b[38;5;28mself\u001b[39m\u001b[38;5;241m.\u001b[39m_edge_user_args, edge_index, size,\n\u001b[0;32m    528\u001b[0m                           kwargs)\n\u001b[0;32m    530\u001b[0m edge_kwargs \u001b[38;5;241m=\u001b[39m \u001b[38;5;28mself\u001b[39m\u001b[38;5;241m.\u001b[39minspector\u001b[38;5;241m.\u001b[39mdistribute(\u001b[38;5;124m'\u001b[39m\u001b[38;5;124medge_update\u001b[39m\u001b[38;5;124m'\u001b[39m, coll_dict)\n\u001b[1;32m--> 531\u001b[0m out \u001b[38;5;241m=\u001b[39m \u001b[38;5;28mself\u001b[39m\u001b[38;5;241m.\u001b[39medge_update(\u001b[38;5;241m*\u001b[39m\u001b[38;5;241m*\u001b[39medge_kwargs)\n\u001b[0;32m    533\u001b[0m \u001b[38;5;28;01mfor\u001b[39;00m hook \u001b[38;5;129;01min\u001b[39;00m \u001b[38;5;28mself\u001b[39m\u001b[38;5;241m.\u001b[39m_edge_update_forward_hooks\u001b[38;5;241m.\u001b[39mvalues():\n\u001b[0;32m    534\u001b[0m     res \u001b[38;5;241m=\u001b[39m hook(\u001b[38;5;28mself\u001b[39m, (edge_index, kwargs), out)\n",
      "File \u001b[1;32m~\\anaconda3\\lib\\site-packages\\torch_geometric\\nn\\conv\\gat_conv.py:295\u001b[0m, in \u001b[0;36mGATConv.edge_update\u001b[1;34m(self, alpha_j, alpha_i, edge_attr, index, ptr, size_i)\u001b[0m\n\u001b[0;32m    292\u001b[0m     alpha \u001b[38;5;241m=\u001b[39m alpha \u001b[38;5;241m+\u001b[39m alpha_edge\n\u001b[0;32m    294\u001b[0m alpha \u001b[38;5;241m=\u001b[39m F\u001b[38;5;241m.\u001b[39mleaky_relu(alpha, \u001b[38;5;28mself\u001b[39m\u001b[38;5;241m.\u001b[39mnegative_slope)\n\u001b[1;32m--> 295\u001b[0m alpha \u001b[38;5;241m=\u001b[39m \u001b[43msoftmax\u001b[49m\u001b[43m(\u001b[49m\u001b[43malpha\u001b[49m\u001b[43m,\u001b[49m\u001b[43m \u001b[49m\u001b[43mindex\u001b[49m\u001b[43m,\u001b[49m\u001b[43m \u001b[49m\u001b[43mptr\u001b[49m\u001b[43m,\u001b[49m\u001b[43m \u001b[49m\u001b[43msize_i\u001b[49m\u001b[43m)\u001b[49m\n\u001b[0;32m    296\u001b[0m alpha \u001b[38;5;241m=\u001b[39m F\u001b[38;5;241m.\u001b[39mdropout(alpha, p\u001b[38;5;241m=\u001b[39m\u001b[38;5;28mself\u001b[39m\u001b[38;5;241m.\u001b[39mdropout, training\u001b[38;5;241m=\u001b[39m\u001b[38;5;28mself\u001b[39m\u001b[38;5;241m.\u001b[39mtraining)\n\u001b[0;32m    297\u001b[0m \u001b[38;5;28;01mreturn\u001b[39;00m alpha\n",
      "File \u001b[1;32m~\\anaconda3\\lib\\site-packages\\torch_geometric\\utils\\softmax.py:68\u001b[0m, in \u001b[0;36msoftmax\u001b[1;34m(src, index, ptr, num_nodes, dim)\u001b[0m\n\u001b[0;32m     66\u001b[0m     out \u001b[38;5;241m=\u001b[39m src \u001b[38;5;241m-\u001b[39m src_max\u001b[38;5;241m.\u001b[39mindex_select(dim, index)\n\u001b[0;32m     67\u001b[0m     out \u001b[38;5;241m=\u001b[39m out\u001b[38;5;241m.\u001b[39mexp()\n\u001b[1;32m---> 68\u001b[0m     out_sum \u001b[38;5;241m=\u001b[39m \u001b[43mscatter\u001b[49m\u001b[43m(\u001b[49m\u001b[43mout\u001b[49m\u001b[43m,\u001b[49m\u001b[43m \u001b[49m\u001b[43mindex\u001b[49m\u001b[43m,\u001b[49m\u001b[43m \u001b[49m\u001b[43mdim\u001b[49m\u001b[43m,\u001b[49m\u001b[43m \u001b[49m\u001b[43mdim_size\u001b[49m\u001b[38;5;241;43m=\u001b[39;49m\u001b[43mN\u001b[49m\u001b[43m,\u001b[49m\u001b[43m \u001b[49m\u001b[43mreduce\u001b[49m\u001b[38;5;241;43m=\u001b[39;49m\u001b[38;5;124;43m'\u001b[39;49m\u001b[38;5;124;43msum\u001b[39;49m\u001b[38;5;124;43m'\u001b[39;49m\u001b[43m)\u001b[49m \u001b[38;5;241m+\u001b[39m \u001b[38;5;241m1e-16\u001b[39m\n\u001b[0;32m     69\u001b[0m     out_sum \u001b[38;5;241m=\u001b[39m out_sum\u001b[38;5;241m.\u001b[39mindex_select(dim, index)\n\u001b[0;32m     70\u001b[0m \u001b[38;5;28;01melse\u001b[39;00m:\n",
      "File \u001b[1;32m~\\anaconda3\\lib\\site-packages\\torch_geometric\\utils\\scatter.py:74\u001b[0m, in \u001b[0;36mscatter\u001b[1;34m(src, index, dim, dim_size, reduce)\u001b[0m\n\u001b[0;32m     72\u001b[0m \u001b[38;5;28;01mif\u001b[39;00m reduce \u001b[38;5;241m==\u001b[39m \u001b[38;5;124m'\u001b[39m\u001b[38;5;124msum\u001b[39m\u001b[38;5;124m'\u001b[39m \u001b[38;5;129;01mor\u001b[39;00m reduce \u001b[38;5;241m==\u001b[39m \u001b[38;5;124m'\u001b[39m\u001b[38;5;124madd\u001b[39m\u001b[38;5;124m'\u001b[39m:\n\u001b[0;32m     73\u001b[0m     index \u001b[38;5;241m=\u001b[39m broadcast(index, src, dim)\n\u001b[1;32m---> 74\u001b[0m     \u001b[38;5;28;01mreturn\u001b[39;00m \u001b[43msrc\u001b[49m\u001b[38;5;241;43m.\u001b[39;49m\u001b[43mnew_zeros\u001b[49m\u001b[43m(\u001b[49m\u001b[43msize\u001b[49m\u001b[43m)\u001b[49m\u001b[38;5;241;43m.\u001b[39;49m\u001b[43mscatter_add_\u001b[49m\u001b[43m(\u001b[49m\u001b[43mdim\u001b[49m\u001b[43m,\u001b[49m\u001b[43m \u001b[49m\u001b[43mindex\u001b[49m\u001b[43m,\u001b[49m\u001b[43m \u001b[49m\u001b[43msrc\u001b[49m\u001b[43m)\u001b[49m\n\u001b[0;32m     76\u001b[0m \u001b[38;5;28;01mif\u001b[39;00m reduce \u001b[38;5;241m==\u001b[39m \u001b[38;5;124m'\u001b[39m\u001b[38;5;124mmean\u001b[39m\u001b[38;5;124m'\u001b[39m:\n\u001b[0;32m     77\u001b[0m     count \u001b[38;5;241m=\u001b[39m src\u001b[38;5;241m.\u001b[39mnew_zeros(dim_size)\n",
      "\u001b[1;31mKeyboardInterrupt\u001b[0m: "
     ]
    }
   ],
   "source": [
    "#create vectors for the training and validation loss\n",
    "train_losses = []\n",
    "val_losses = []\n",
    "patience = 5       # patience for early stopping\n",
    "\n",
    "#start measuring time\n",
    "start_time = time.time()\n",
    "\n",
    "for epoch in range(1, num_epochs+1):\n",
    "    # Model training\n",
    "    train_loss = train_epoch(model, tra_loader, optimizer, device=device)\n",
    "\n",
    "    # Model validation\n",
    "    val_loss = evaluate_epoch(model, val_loader, device=device)\n",
    "\n",
    "    train_losses.append(train_loss)\n",
    "    val_losses.append(val_loss)\n",
    "\n",
    "    # Early stopping\n",
    "    try:\n",
    "        if val_losses[-1]>=val_losses[-2]:\n",
    "            early_stop += 1\n",
    "            if early_stop == patience:\n",
    "                print(\"Early stopping! Epoch:\", epoch)\n",
    "                break\n",
    "        else:\n",
    "            early_stop = 0\n",
    "    except:\n",
    "        early_stop = 0\n",
    "\n",
    "    print(\"epoch:\",epoch, \"\\t training loss:\", np.round(train_loss,4),\n",
    "                        \"\\t validation loss:\", np.round(val_loss,4))\n",
    "\n",
    "elapsed_time = time.time() - start_time\n",
    "print(f'Model training took {elapsed_time:.3f} seconds')"
   ]
  },
  {
   "cell_type": "markdown",
   "metadata": {
    "id": "iBIY-52mzxzD"
   },
   "source": [
    "In the following cell, plot the loss as function of epochs"
   ]
  },
  {
   "cell_type": "code",
   "execution_count": 39,
   "metadata": {
    "colab": {
     "base_uri": "https://localhost:8080/",
     "height": 469
    },
    "executionInfo": {
     "elapsed": 479,
     "status": "ok",
     "timestamp": 1685910480568,
     "user": {
      "displayName": "Karol Dobiczek",
      "userId": "02696304507583851641"
     },
     "user_tz": -120
    },
    "id": "0aMBy_kDMvSg",
    "outputId": "265fc67f-b7bd-48c6-cbb3-ab87aa4bae6b",
    "scrolled": false
   },
   "outputs": [
    {
     "data": {
      "text/plain": [
       "<matplotlib.legend.Legend at 0x21f11fb4340>"
      ]
     },
     "execution_count": 39,
     "metadata": {},
     "output_type": "execute_result"
    },
    {
     "data": {
      "image/png": "[encoded data removed]",
      "text/plain": [
       "<Figure size 640x480 with 1 Axes>"
      ]
     },
     "metadata": {},
     "output_type": "display_data"
    }
   ],
   "source": [
    "# plot the training and validation loss curves\n",
    "plt.plot(train_losses, label='train loss')\n",
    "plt.plot(val_losses, label='validation loss')\n",
    "plt.title('training curves')\n",
    "plt.legend()"
   ]
  },
  {
   "cell_type": "code",
   "execution_count": 54,
   "metadata": {},
   "outputs": [],
   "source": [
    "tst_dataset_pyg\n",
    "\n",
    "ys = []\n",
    "for data in tst_dataset_pyg:\n",
    "    ys.append(model(data.to(device)).cpu().detach().numpy())"
   ]
  },
  {
   "cell_type": "code",
   "execution_count": 71,
   "metadata": {
    "scrolled": true
   },
   "outputs": [
    {
     "data": {
      "image/png": "[encoded data removed]",
      "text/plain": [
       "<Figure size 640x480 with 1 Axes>"
      ]
     },
     "metadata": {},
     "output_type": "display_data"
    }
   ],
   "source": [
    "ys_r = np.array([y[0] for y in ys])\n",
    "xs = np.array([data.x[0].cpu().detach().numpy() for data in tst_dataset_pyg])\n",
    "\n",
    "plt.plot(ys_r[:-12, 0], label='y')\n",
    "plt.plot(xs[12:, 0], label='x')\n",
    "plt.xlim(0, 100)\n",
    "plt.legend()\n",
    "plt.show()"
   ]
  },
  {
   "cell_type": "code",
   "execution_count": null,
   "metadata": {},
   "outputs": [],
   "source": []
  }
 ],
 "metadata": {
  "colab": {
   "provenance": []
  },
  "gpuClass": "standard",
  "kernelspec": {
   "display_name": "Python 3 (ipykernel)",
   "language": "python",
   "name": "python3"
  },
  "language_info": {
   "codemirror_mode": {
    "name": "ipython",
    "version": 3
   },
   "file_extension": ".py",
   "mimetype": "text/x-python",
   "name": "python",
   "nbconvert_exporter": "python",
   "pygments_lexer": "ipython3",
   "version": "3.10.6"
  }
 },
 "nbformat": 4,
 "nbformat_minor": 1
}
